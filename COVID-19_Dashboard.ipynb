{
 "cells": [
  {
   "cell_type": "code",
   "execution_count": 1,
   "metadata": {},
   "outputs": [],
   "source": [
    "import plotly.graph_objects as go\n",
    "from plotly.subplots import make_subplots\n",
    "import pandas as pd\n",
    "import requests\n",
    "from datetime import datetime\n",
    "\n",
    "#https://towardsdatascience.com/building-a-real-time-dashboard-using-python-plotly-library-and-web-service-145f50d204f0\n"
   ]
  },
  {
   "cell_type": "code",
   "execution_count": 2,
   "metadata": {},
   "outputs": [
    {
     "output_type": "execute_result",
     "data": {
      "text/plain": "                                          attributes  \\\n0  {'OBJECTID': 1, 'Province_State': None, 'Count...   \n1  {'OBJECTID': 2, 'Province_State': None, 'Count...   \n2  {'OBJECTID': 3, 'Province_State': None, 'Count...   \n3  {'OBJECTID': 4, 'Province_State': None, 'Count...   \n4  {'OBJECTID': 5, 'Province_State': None, 'Count...   \n\n                                            geometry  \n0   {'x': 67.70995300000004, 'y': 33.93911000000003}  \n1  {'x': 20.168300000000045, 'y': 41.15330000000006}  \n2  {'x': 1.6596000000000686, 'y': 28.033900000000...  \n3  {'x': 1.5218000000000416, 'y': 42.50630000000007}  \n4  {'x': 17.87390000000005, 'y': -11.202699999999...  ",
      "text/html": "<div>\n<style scoped>\n    .dataframe tbody tr th:only-of-type {\n        vertical-align: middle;\n    }\n\n    .dataframe tbody tr th {\n        vertical-align: top;\n    }\n\n    .dataframe thead th {\n        text-align: right;\n    }\n</style>\n<table border=\"1\" class=\"dataframe\">\n  <thead>\n    <tr style=\"text-align: right;\">\n      <th></th>\n      <th>attributes</th>\n      <th>geometry</th>\n    </tr>\n  </thead>\n  <tbody>\n    <tr>\n      <th>0</th>\n      <td>{'OBJECTID': 1, 'Province_State': None, 'Count...</td>\n      <td>{'x': 67.70995300000004, 'y': 33.93911000000003}</td>\n    </tr>\n    <tr>\n      <th>1</th>\n      <td>{'OBJECTID': 2, 'Province_State': None, 'Count...</td>\n      <td>{'x': 20.168300000000045, 'y': 41.15330000000006}</td>\n    </tr>\n    <tr>\n      <th>2</th>\n      <td>{'OBJECTID': 3, 'Province_State': None, 'Count...</td>\n      <td>{'x': 1.6596000000000686, 'y': 28.033900000000...</td>\n    </tr>\n    <tr>\n      <th>3</th>\n      <td>{'OBJECTID': 4, 'Province_State': None, 'Count...</td>\n      <td>{'x': 1.5218000000000416, 'y': 42.50630000000007}</td>\n    </tr>\n    <tr>\n      <th>4</th>\n      <td>{'OBJECTID': 5, 'Province_State': None, 'Count...</td>\n      <td>{'x': 17.87390000000005, 'y': -11.202699999999...</td>\n    </tr>\n  </tbody>\n</table>\n</div>"
     },
     "metadata": {},
     "execution_count": 2
    }
   ],
   "source": [
    "raw= requests.get(\"https://services1.arcgis.com/0MSEUqKaxRlEPj5g/arcgis/rest/services/Coronavirus_2019_nCoV_Cases/FeatureServer/1/query?where=1%3D1&outFields=*&outSR=4326&f=json\")\n",
    "raw_json = raw.json()\n",
    "df = pd.DataFrame(raw_json[\"features\"])\n",
    "df.head()"
   ]
  },
  {
   "cell_type": "code",
   "execution_count": 3,
   "metadata": {},
   "outputs": [
    {
     "output_type": "execute_result",
     "data": {
      "text/plain": "{'OBJECTID': 1,\n 'Province_State': None,\n 'Country_Region': 'Afghanistan',\n 'Last_Update': 1597933680000,\n 'Lat': 33.93911,\n 'Long_': 67.709953,\n 'Confirmed': 37856,\n 'Recovered': 27681,\n 'Deaths': 1385,\n 'Active': 8790,\n 'Admin2': None,\n 'FIPS': None,\n 'Combined_Key': 'Afghanistan'}"
     },
     "metadata": {},
     "execution_count": 3
    }
   ],
   "source": [
    "df[\"attributes\"][0]"
   ]
  },
  {
   "cell_type": "code",
   "execution_count": 4,
   "metadata": {},
   "outputs": [],
   "source": [
    "data_list = df[\"attributes\"].tolist()\n",
    "df_final = pd.DataFrame(data_list)\n",
    "df_final.set_index(\"OBJECTID\")\n",
    "df_final = df_final[[\"Country_Region\", \"Province_State\", \"Lat\", \"Long_\", \"Confirmed\", \"Deaths\", \"Recovered\", \"Last_Update\"]]"
   ]
  },
  {
   "cell_type": "code",
   "execution_count": 5,
   "metadata": {},
   "outputs": [
    {
     "output_type": "execute_result",
     "data": {
      "text/plain": "  Country_Region Province_State       Lat      Long_  Confirmed  Deaths  \\\n0    Afghanistan           None  33.93911  67.709953      37856    1385   \n1        Albania           None  41.15330  20.168300       7812     234   \n2        Algeria           None  28.03390   1.659600      39847    1402   \n3        Andorra           None  42.50630   1.521800       1024      53   \n4         Angola           None -11.20270  17.873900       2015      92   \n\n   Recovered   Last_Update  \n0      27681  1.597934e+12  \n1       3928  1.597934e+12  \n2      27971  1.597934e+12  \n3        875  1.597934e+12  \n4        698  1.597934e+12  ",
      "text/html": "<div>\n<style scoped>\n    .dataframe tbody tr th:only-of-type {\n        vertical-align: middle;\n    }\n\n    .dataframe tbody tr th {\n        vertical-align: top;\n    }\n\n    .dataframe thead th {\n        text-align: right;\n    }\n</style>\n<table border=\"1\" class=\"dataframe\">\n  <thead>\n    <tr style=\"text-align: right;\">\n      <th></th>\n      <th>Country_Region</th>\n      <th>Province_State</th>\n      <th>Lat</th>\n      <th>Long_</th>\n      <th>Confirmed</th>\n      <th>Deaths</th>\n      <th>Recovered</th>\n      <th>Last_Update</th>\n    </tr>\n  </thead>\n  <tbody>\n    <tr>\n      <th>0</th>\n      <td>Afghanistan</td>\n      <td>None</td>\n      <td>33.93911</td>\n      <td>67.709953</td>\n      <td>37856</td>\n      <td>1385</td>\n      <td>27681</td>\n      <td>1.597934e+12</td>\n    </tr>\n    <tr>\n      <th>1</th>\n      <td>Albania</td>\n      <td>None</td>\n      <td>41.15330</td>\n      <td>20.168300</td>\n      <td>7812</td>\n      <td>234</td>\n      <td>3928</td>\n      <td>1.597934e+12</td>\n    </tr>\n    <tr>\n      <th>2</th>\n      <td>Algeria</td>\n      <td>None</td>\n      <td>28.03390</td>\n      <td>1.659600</td>\n      <td>39847</td>\n      <td>1402</td>\n      <td>27971</td>\n      <td>1.597934e+12</td>\n    </tr>\n    <tr>\n      <th>3</th>\n      <td>Andorra</td>\n      <td>None</td>\n      <td>42.50630</td>\n      <td>1.521800</td>\n      <td>1024</td>\n      <td>53</td>\n      <td>875</td>\n      <td>1.597934e+12</td>\n    </tr>\n    <tr>\n      <th>4</th>\n      <td>Angola</td>\n      <td>None</td>\n      <td>-11.20270</td>\n      <td>17.873900</td>\n      <td>2015</td>\n      <td>92</td>\n      <td>698</td>\n      <td>1.597934e+12</td>\n    </tr>\n  </tbody>\n</table>\n</div>"
     },
     "metadata": {},
     "execution_count": 5
    }
   ],
   "source": [
    "df_final.head()"
   ]
  },
  {
   "cell_type": "code",
   "execution_count": 6,
   "metadata": {},
   "outputs": [
    {
     "output_type": "execute_result",
     "data": {
      "text/plain": "  Country_Region Province_State       Lat      Long_  Confirmed  Deaths  \\\n0    Afghanistan                 33.93911  67.709953      37856    1385   \n1        Albania                 41.15330  20.168300       7812     234   \n2        Algeria                 28.03390   1.659600      39847    1402   \n3        Andorra                 42.50630   1.521800       1024      53   \n4         Angola                -11.20270  17.873900       2015      92   \n\n   Recovered         Last_Update  \n0      27681 2020-08-20 19:58:00  \n1       3928 2020-08-20 19:58:00  \n2      27971 2020-08-20 19:58:00  \n3        875 2020-08-20 19:58:00  \n4        698 2020-08-20 19:58:00  ",
      "text/html": "<div>\n<style scoped>\n    .dataframe tbody tr th:only-of-type {\n        vertical-align: middle;\n    }\n\n    .dataframe tbody tr th {\n        vertical-align: top;\n    }\n\n    .dataframe thead th {\n        text-align: right;\n    }\n</style>\n<table border=\"1\" class=\"dataframe\">\n  <thead>\n    <tr style=\"text-align: right;\">\n      <th></th>\n      <th>Country_Region</th>\n      <th>Province_State</th>\n      <th>Lat</th>\n      <th>Long_</th>\n      <th>Confirmed</th>\n      <th>Deaths</th>\n      <th>Recovered</th>\n      <th>Last_Update</th>\n    </tr>\n  </thead>\n  <tbody>\n    <tr>\n      <th>0</th>\n      <td>Afghanistan</td>\n      <td></td>\n      <td>33.93911</td>\n      <td>67.709953</td>\n      <td>37856</td>\n      <td>1385</td>\n      <td>27681</td>\n      <td>2020-08-20 19:58:00</td>\n    </tr>\n    <tr>\n      <th>1</th>\n      <td>Albania</td>\n      <td></td>\n      <td>41.15330</td>\n      <td>20.168300</td>\n      <td>7812</td>\n      <td>234</td>\n      <td>3928</td>\n      <td>2020-08-20 19:58:00</td>\n    </tr>\n    <tr>\n      <th>2</th>\n      <td>Algeria</td>\n      <td></td>\n      <td>28.03390</td>\n      <td>1.659600</td>\n      <td>39847</td>\n      <td>1402</td>\n      <td>27971</td>\n      <td>2020-08-20 19:58:00</td>\n    </tr>\n    <tr>\n      <th>3</th>\n      <td>Andorra</td>\n      <td></td>\n      <td>42.50630</td>\n      <td>1.521800</td>\n      <td>1024</td>\n      <td>53</td>\n      <td>875</td>\n      <td>2020-08-20 19:58:00</td>\n    </tr>\n    <tr>\n      <th>4</th>\n      <td>Angola</td>\n      <td></td>\n      <td>-11.20270</td>\n      <td>17.873900</td>\n      <td>2015</td>\n      <td>92</td>\n      <td>698</td>\n      <td>2020-08-20 19:58:00</td>\n    </tr>\n  </tbody>\n</table>\n</div>"
     },
     "metadata": {},
     "execution_count": 6
    }
   ],
   "source": [
    "def convertTime(t):\n",
    "    t = int(t)\n",
    "    return datetime.fromtimestamp(t)\n",
    "\n",
    "df_final = df_final.dropna(subset=[\"Last_Update\"])\n",
    "df_final[\"Province_State\"].fillna(value=\"\", inplace=True)\n",
    "\n",
    "df_final[\"Last_Update\"]= df_final[\"Last_Update\"]/1000\n",
    "df_final[\"Last_Update\"] = df_final[\"Last_Update\"].apply(convertTime)\n",
    "\n",
    "df_final.head()"
   ]
  },
  {
   "cell_type": "code",
   "execution_count": 7,
   "metadata": {},
   "outputs": [
    {
     "output_type": "execute_result",
     "data": {
      "text/plain": "  Country_Region  Confirmed  Deaths  Recovered\n0    Afghanistan      37856    1385      27681\n1        Albania       7812     234       3928\n2        Algeria      39847    1402      27971\n3        Andorra       1024      53        875\n4         Angola       2015      92        698",
      "text/html": "<div>\n<style scoped>\n    .dataframe tbody tr th:only-of-type {\n        vertical-align: middle;\n    }\n\n    .dataframe tbody tr th {\n        vertical-align: top;\n    }\n\n    .dataframe thead th {\n        text-align: right;\n    }\n</style>\n<table border=\"1\" class=\"dataframe\">\n  <thead>\n    <tr style=\"text-align: right;\">\n      <th></th>\n      <th>Country_Region</th>\n      <th>Confirmed</th>\n      <th>Deaths</th>\n      <th>Recovered</th>\n    </tr>\n  </thead>\n  <tbody>\n    <tr>\n      <th>0</th>\n      <td>Afghanistan</td>\n      <td>37856</td>\n      <td>1385</td>\n      <td>27681</td>\n    </tr>\n    <tr>\n      <th>1</th>\n      <td>Albania</td>\n      <td>7812</td>\n      <td>234</td>\n      <td>3928</td>\n    </tr>\n    <tr>\n      <th>2</th>\n      <td>Algeria</td>\n      <td>39847</td>\n      <td>1402</td>\n      <td>27971</td>\n    </tr>\n    <tr>\n      <th>3</th>\n      <td>Andorra</td>\n      <td>1024</td>\n      <td>53</td>\n      <td>875</td>\n    </tr>\n    <tr>\n      <th>4</th>\n      <td>Angola</td>\n      <td>2015</td>\n      <td>92</td>\n      <td>698</td>\n    </tr>\n  </tbody>\n</table>\n</div>"
     },
     "metadata": {},
     "execution_count": 7
    }
   ],
   "source": [
    "df_total = df_final.groupby(\"Country_Region\", as_index=False).agg(\n",
    "    {\n",
    "        \"Confirmed\" : \"sum\",\n",
    "        \"Deaths\" : \"sum\",\n",
    "        \"Recovered\" : \"sum\"\n",
    "    }\n",
    ")\n",
    "\n",
    "df_total.head()"
   ]
  },
  {
   "cell_type": "code",
   "execution_count": 8,
   "metadata": {},
   "outputs": [],
   "source": [
    "total_confirmed = df_final[\"Confirmed\"].sum()\n",
    "total_recovered = df_final[\"Recovered\"].sum()\n",
    "total_deaths = df_final[\"Deaths\"].sum()"
   ]
  },
  {
   "cell_type": "code",
   "execution_count": 9,
   "metadata": {},
   "outputs": [],
   "source": [
    "df_top10 = df_total.nlargest(10, \"Confirmed\")\n",
    "top10_countries_1 = df_top10[\"Country_Region\"].tolist()\n",
    "top10_confirmed = df_top10[\"Confirmed\"].tolist()\n",
    "\n",
    "df_top10 = df_total.nlargest(10, \"Recovered\")\n",
    "top10_countries_2 = df_top10[\"Country_Region\"].tolist()\n",
    "top10_recovered = df_top10[\"Recovered\"].tolist()\n",
    "\n",
    "df_top10 = df_total.nlargest(10, \"Deaths\")\n",
    "top10_countries_3 = df_top10[\"Country_Region\"].tolist()\n",
    "top10_deaths = df_top10[\"Deaths\"].tolist()"
   ]
  },
  {
   "cell_type": "code",
   "execution_count": 10,
   "metadata": {},
   "outputs": [],
   "source": [
    "fig = make_subplots(\n",
    "    rows = 4, cols = 6,\n",
    "\n",
    "    specs=[\n",
    "            [{\"type\": \"scattergeo\", \"rowspan\": 4, \"colspan\": 3}, None, None, {\"type\": \"indicator\"}, {\"type\": \"indicator\"}, {\"type\": \"indicator\"} ],\n",
    "            [    None, None, None,               {\"type\": \"bar\", \"colspan\":3}, None, None],\n",
    "            [    None, None, None,              {\"type\": \"bar\", \"colspan\":3}, None, None],\n",
    "            [    None, None, None,               {\"type\": \"bar\", \"colspan\":3}, None, None],\n",
    "          ]\n",
    ")\n",
    "\n",
    "\n",
    "message = df_final[\"Country_Region\"] + \" \" + df_final[\"Province_State\"] + \"<br>\"\n",
    "message += \"Confirmed: \" + df_final[\"Confirmed\"].astype(str) + \"<br>\"\n",
    "message += \"Deaths: \" + df_final[\"Deaths\"].astype(str) + \"<br>\"\n",
    "message += \"Recovered: \" + df_final[\"Recovered\"].astype(str) + \"<br>\"\n",
    "message += \"Last updated: \" + df_final[\"Last_Update\"].astype(str)\n",
    "df_final[\"text\"] = message\n",
    "\n",
    "fig.add_trace(\n",
    "    go.Scattergeo(\n",
    "        locationmode = \"country names\",\n",
    "        lon = df_final[\"Long_\"],\n",
    "        lat = df_final[\"Lat\"],\n",
    "        hovertext = df_final[\"text\"],\n",
    "        showlegend=False,\n",
    "        marker = dict(\n",
    "            size = 10,\n",
    "            opacity = 0.8,\n",
    "            reversescale = True,\n",
    "            autocolorscale = True,\n",
    "            symbol = 'square',\n",
    "            line = dict(\n",
    "                width=1,\n",
    "                color='rgba(102, 102, 102)'\n",
    "            ),\n",
    "            cmin = 0,\n",
    "            color = df_final['Confirmed'],\n",
    "            cmax = df_final['Confirmed'].max(),\n",
    "            colorbar_title=\"Confirmed Cases<br>Latest Update\",  \n",
    "            colorbar_x = -0.05\n",
    "        )\n",
    "\n",
    "    ),\n",
    "    \n",
    "    row=1, col=1\n",
    ")\n",
    "\n",
    "fig.add_trace(\n",
    "    go.Indicator(\n",
    "        mode=\"number\",\n",
    "        value=total_confirmed,\n",
    "        title=\"Confirmed Cases\",\n",
    "    ),\n",
    "    row=1, col=4\n",
    ")\n",
    "\n",
    "fig.add_trace(\n",
    "    go.Indicator(\n",
    "        mode=\"number\",\n",
    "        value=total_recovered,\n",
    "        title=\"Recovered Cases\",\n",
    "    ),\n",
    "    row=1, col=5\n",
    ")\n",
    "\n",
    "fig.add_trace(\n",
    "    go.Indicator(\n",
    "        mode=\"number\",\n",
    "        value=total_deaths,\n",
    "        title=\"Deaths Cases\",\n",
    "    ),\n",
    "    row=1, col=6\n",
    ")\n",
    "\n",
    "fig.add_trace(\n",
    "    go.Bar(\n",
    "        x=top10_countries_1,\n",
    "        y=top10_confirmed, \n",
    "        name= \"Confirmed Cases\",\n",
    "        marker=dict(color=\"Yellow\"), \n",
    "        showlegend=True,\n",
    "    ),\n",
    "    row=2, col=4\n",
    ")\n",
    "\n",
    "fig.add_trace(\n",
    "    go.Bar(\n",
    "        x=top10_countries_2,\n",
    "        y=top10_recovered, \n",
    "        name= \"Recovered Cases\",\n",
    "        marker=dict(color=\"Green\"), \n",
    "        showlegend=True),\n",
    "    row=3, col=4\n",
    ")\n",
    "\n",
    "fig.add_trace(\n",
    "    go.Bar(\n",
    "        x=top10_countries_3,\n",
    "        y=top10_deaths, \n",
    "        name= \"Deaths Cases\",\n",
    "        marker=dict(color=\"crimson\"), \n",
    "        showlegend=True),\n",
    "    row=4, col=4\n",
    ")\n",
    "\n",
    "\n",
    "fig.update_layout(\n",
    "    template=\"plotly_dark\",\n",
    "    title = \"Global COVID-19 Cases (Last Updated: \" + str(df_final[\"Last_Update\"][0]) + \")\",\n",
    "    showlegend=True,\n",
    "    legend_orientation=\"h\",\n",
    "    legend=dict(x=0.65, y=0.8),\n",
    "    geo = dict(\n",
    "            projection_type=\"orthographic\",\n",
    "            showcoastlines=True,\n",
    "            landcolor=\"white\", \n",
    "            showland= True,\n",
    "            showocean = True,\n",
    "            lakecolor=\"LightBlue\"\n",
    "    ),\n",
    "\n",
    "    annotations=[\n",
    "        dict(\n",
    "            text=\"Source: https://bit.ly/3aEzxjK\",\n",
    "            showarrow=False,\n",
    "            xref=\"paper\",\n",
    "            yref=\"paper\",\n",
    "            x=0.35,\n",
    "            y=0)\n",
    "    ]\n",
    ")\n",
    "\n",
    "fig.write_html('first_figure.html', auto_open=True)"
   ]
  },
  {
   "cell_type": "code",
   "execution_count": null,
   "metadata": {},
   "outputs": [],
   "source": []
  }
 ],
 "metadata": {
  "kernelspec": {
   "display_name": "Python 3.7.6 64-bit (conda)",
   "language": "python",
   "name": "python37664bitconda7155640d2943434980c0d2fbfddaa455"
  },
  "language_info": {
   "codemirror_mode": {
    "name": "ipython",
    "version": 3
   },
   "file_extension": ".py",
   "mimetype": "text/x-python",
   "name": "python",
   "nbconvert_exporter": "python",
   "pygments_lexer": "ipython3",
   "version": "3.7.7-final"
  }
 },
 "nbformat": 4,
 "nbformat_minor": 4
}