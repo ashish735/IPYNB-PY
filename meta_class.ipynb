{
 "metadata": {
  "language_info": {
   "codemirror_mode": {
    "name": "ipython",
    "version": 3
   },
   "file_extension": ".py",
   "mimetype": "text/x-python",
   "name": "python",
   "nbconvert_exporter": "python",
   "pygments_lexer": "ipython3",
   "version": "3.6.10-final"
  },
  "orig_nbformat": 2,
  "kernelspec": {
   "name": "python_defaultSpec_1598511945677",
   "display_name": "Python 3.6.10 64-bit (conda)"
  }
 },
 "nbformat": 4,
 "nbformat_minor": 2,
 "cells": [
  {
   "cell_type": "markdown",
   "metadata": {},
   "source": [
    "https://realpython.com/python-metaclasses/\n",
    "\n",
    "The term metaprogramming refers to the potential for a program to have knowledge of or manipulate itself. Python supports a form of metaprogramming for classes called metaclasses.\n",
    "\n",
    "Metaclasses are an esoteric OOP concept, lurking behind virtually all Python code. You are using them whether you are aware of it or not. For the most part, you don’t need to be aware of it. Most Python programmers rarely, if ever, have to think about metaclasses."
   ]
  },
  {
   "cell_type": "markdown",
   "metadata": {},
   "source": [
    "New-Style Classes\n",
    "\n",
    "New-style classes unify the concepts of class and type. If obj is an instance of a new-style class, type(obj) is the same as obj.__class__:"
   ]
  },
  {
   "cell_type": "code",
   "execution_count": 1,
   "metadata": {},
   "outputs": [
    {
     "output_type": "execute_result",
     "data": {
      "text/plain": "(__main__.Foo, __main__.Foo, True)"
     },
     "metadata": {},
     "execution_count": 1
    }
   ],
   "source": [
    "class Foo:\n",
    "    pass\n",
    "obj= Foo()\n",
    "obj.__class__, type(obj), obj.__class__ is type(obj)"
   ]
  },
  {
   "cell_type": "code",
   "execution_count": 5,
   "metadata": {
    "tags": []
   },
   "outputs": [
    {
     "output_type": "stream",
     "name": "stdout",
     "text": "True\n<class 'int'> <class 'int'>\nTrue\n<class 'dict'> <class 'dict'>\nTrue\n<class '__main__.Foo'> <class '__main__.Foo'>\n"
    }
   ],
   "source": [
    "n = 5\n",
    "d = { 'x' : 1, 'y' : 2 }\n",
    "\n",
    "class Foo:\n",
    "     pass\n",
    "\n",
    "x = Foo()\n",
    "\n",
    "for obj in (n, d, x):\n",
    "     print(type(obj) is obj.__class__)\n",
    "     print(type(obj), obj.__class__)"
   ]
  },
  {
   "cell_type": "markdown",
   "metadata": {},
   "source": [
    "Remember that, in Python, everything is an object. Classes are objects as well. As a result, a class must have a type. What is the type of a class?\n",
    "\n",
    "Consider the following:"
   ]
  },
  {
   "cell_type": "code",
   "execution_count": 6,
   "metadata": {},
   "outputs": [
    {
     "output_type": "execute_result",
     "data": {
      "text/plain": "(__main__.Foo, type)"
     },
     "metadata": {},
     "execution_count": 6
    }
   ],
   "source": [
    "class Foo:\n",
    "    pass\n",
    "x= Foo()\n",
    "type(x), type(Foo)"
   ]
  },
  {
   "cell_type": "markdown",
   "metadata": {},
   "source": [
    "The type of x is class Foo, as you would expect. But the type of Foo, the class itself, is type. In general, the type of any new-style class is type.\n",
    "\n",
    "The type of the built-in classes you are familiar with is also type:"
   ]
  },
  {
   "cell_type": "code",
   "execution_count": 7,
   "metadata": {
    "tags": []
   },
   "outputs": [
    {
     "output_type": "stream",
     "name": "stdout",
     "text": "<class 'type'>\n<class 'type'>\n<class 'type'>\n<class 'type'>\n<class 'type'>\n"
    }
   ],
   "source": [
    "for t in int, float, dict, list, tuple:\n",
    "...     print(type(t))"
   ]
  },
  {
   "cell_type": "code",
   "execution_count": 8,
   "metadata": {},
   "outputs": [
    {
     "output_type": "execute_result",
     "data": {
      "text/plain": "type"
     },
     "metadata": {},
     "execution_count": 8
    }
   ],
   "source": [
    "type(type)"
   ]
  },
  {
   "cell_type": "markdown",
   "metadata": {},
   "source": [
    "type is a metaclass, of which classes are instances. Just as an ordinary object is an instance of a class, any new-style class in Python, and thus any class in Python 3, is an instance of the type metaclass.\n",
    "\n",
    "In the above case:\n",
    "\n",
    "    x is an instance of class Foo.\n",
    "    Foo is an instance of the type metaclass.\n",
    "    type is also an instance of the type metaclass, so it is an instance of itself.\n"
   ]
  },
  {
   "cell_type": "markdown",
   "metadata": {},
   "source": [
    "You can also call type() with three arguments—type(<name>, <bases>, <dct>):\n",
    "\n",
    "    <name> specifies the class name. This becomes the __name__ attribute of the class.\n",
    "    <bases> specifies a tuple of the base classes from which the class inherits. This becomes the __bases__ attribute of the class.\n",
    "    <dct> specifies a namespace dictionary containing definitions for the class body. This becomes the __dict__ attribute of the class.\n",
    "\n",
    "Calling type() in this manner creates a new instance of the type metaclass. In other words, it dynamically creates a new class.\n",
    "\n",
    "In each of the following examples, the top snippet defines a class dynamically with type(), while the snippet below it defines the class the usual way, with the class statement. In each case, the two snippets are functionally equivalent."
   ]
  },
  {
   "cell_type": "markdown",
   "metadata": {},
   "source": [
    "## Example 1\n",
    "\n",
    "In this first example, the <bases> and <dct> arguments passed to type() are both empty. No inheritance from any parent class is specified, and nothing is initially placed in the namespace dictionary. This is the simplest class definition possible:"
   ]
  },
  {
   "cell_type": "code",
   "execution_count": 9,
   "metadata": {},
   "outputs": [
    {
     "output_type": "execute_result",
     "data": {
      "text/plain": "<__main__.Foo at 0x1ccfdf31908>"
     },
     "metadata": {},
     "execution_count": 9
    }
   ],
   "source": [
    ">>> Foo = type('Foo', (), {})\n",
    "\n",
    ">>> x = Foo()\n",
    ">>> x"
   ]
  },
  {
   "cell_type": "code",
   "execution_count": 10,
   "metadata": {},
   "outputs": [
    {
     "output_type": "execute_result",
     "data": {
      "text/plain": "<__main__.Foo at 0x1ccfdf319e8>"
     },
     "metadata": {},
     "execution_count": 10
    }
   ],
   "source": [
    ">>> class Foo:\n",
    "...     pass\n",
    "...\n",
    ">>> x = Foo()\n",
    ">>> x"
   ]
  },
  {
   "cell_type": "markdown",
   "metadata": {},
   "source": [
    "## Example 2\n",
    "\n",
    "Here, <bases> is a tuple with a single element Foo, specifying the parent class that Bar inherits from. An attribute, attr, is initially placed into the namespace dictionary:"
   ]
  },
  {
   "cell_type": "code",
   "execution_count": 13,
   "metadata": {},
   "outputs": [
    {
     "output_type": "execute_result",
     "data": {
      "text/plain": "(100, __main__.Bar, (__main__.Foo,))"
     },
     "metadata": {},
     "execution_count": 13
    }
   ],
   "source": [
    ">>> Bar = type('Bar', (Foo,), dict(attr=100))\n",
    "\n",
    ">>> x = Bar()\n",
    "\n",
    ">>> x.attr, x.__class__, x.__class__.__bases__\n"
   ]
  },
  {
   "cell_type": "code",
   "execution_count": 14,
   "metadata": {},
   "outputs": [
    {
     "output_type": "execute_result",
     "data": {
      "text/plain": "(100, __main__.Bar, (__main__.Foo,))"
     },
     "metadata": {},
     "execution_count": 14
    }
   ],
   "source": [
    ">>> class Bar(Foo):\n",
    "...     attr = 100\n",
    "...\n",
    "\n",
    ">>> x = Bar()\n",
    ">>> x.attr, x.__class__, x.__class__.__bases__"
   ]
  },
  {
   "cell_type": "markdown",
   "metadata": {},
   "source": [
    "## Custom Metaclasses\n",
    "\n",
    "Consider again this well-worn example:"
   ]
  },
  {
   "cell_type": "code",
   "execution_count": 15,
   "metadata": {},
   "outputs": [],
   "source": [
    ">>> class Foo:\n",
    "...     pass\n",
    "...\n",
    ">>> f = Foo()\n"
   ]
  },
  {
   "cell_type": "markdown",
   "metadata": {},
   "source": [
    "The expression Foo() creates a new instance of class Foo. When the interpreter encounters Foo(), the following occurs:\n",
    "\n",
    "    The __call__() method of Foo’s parent class is called. Since Foo is a standard new-style class, its parent class is the type metaclass, so type’s __call__() method is invoked.\n",
    "\n",
    "    That __call__() method in turn invokes the following:\n",
    "        __new__()\n",
    "        __init__()\n",
    "\n",
    "If Foo does not define __new__() and __init__(), default methods are inherited from Foo’s ancestry. But if Foo does define these methods, they override those from the ancestry, which allows for customized behavior when instantiating Foo.\n",
    "\n",
    "In the following, a custom method called new() is defined and assigned as the __new__() method for Foo:"
   ]
  },
  {
   "cell_type": "code",
   "execution_count": 16,
   "metadata": {},
   "outputs": [
    {
     "output_type": "execute_result",
     "data": {
      "text/plain": "100"
     },
     "metadata": {},
     "execution_count": 16
    }
   ],
   "source": [
    ">>> def new(cls):\n",
    "...     x = object.__new__(cls)\n",
    "...     x.attr = 100\n",
    "...     return x\n",
    "...\n",
    ">>> Foo.__new__ = new\n",
    "\n",
    ">>> f = Foo()\n",
    ">>> f.attr"
   ]
  },
  {
   "cell_type": "markdown",
   "metadata": {},
   "source": [
    "This modifies the instantiation behavior of class Foo: each time an instance of Foo is created, by default it is initialized with an attribute called attr, which has a value of 100. (Code like this would more usually appear in the __init__() method and not typically in __new__(). This example is contrived for demonstration purposes.)\n",
    "\n",
    "Now, as has already been reiterated, classes are objects too. Suppose you wanted to similarly customize instantiation behavior when creating a class like Foo. If you were to follow the pattern above, you’d again define a custom method and assign it as the __new__() method for the class of which Foo is an instance. Foo is an instance of the type metaclass, so the code looks something like this:"
   ]
  },
  {
   "cell_type": "code",
   "execution_count": 17,
   "metadata": {},
   "outputs": [
    {
     "output_type": "error",
     "ename": "TypeError",
     "evalue": "can't set attributes of built-in/extension type 'type'",
     "traceback": [
      "\u001b[1;31m---------------------------------------------------------------------------\u001b[0m",
      "\u001b[1;31mTypeError\u001b[0m                                 Traceback (most recent call last)",
      "\u001b[1;32m<ipython-input-17-a0037cf53836>\u001b[0m in \u001b[0;36m<module>\u001b[1;34m\u001b[0m\n\u001b[0;32m      5\u001b[0m     \u001b[1;32mreturn\u001b[0m \u001b[0mx\u001b[0m\u001b[1;33m\u001b[0m\u001b[1;33m\u001b[0m\u001b[0m\n\u001b[0;32m      6\u001b[0m \u001b[1;33m\u001b[0m\u001b[0m\n\u001b[1;32m----> 7\u001b[1;33m \u001b[0mtype\u001b[0m\u001b[1;33m.\u001b[0m\u001b[0m__new__\u001b[0m \u001b[1;33m=\u001b[0m \u001b[0mnew\u001b[0m\u001b[1;33m\u001b[0m\u001b[1;33m\u001b[0m\u001b[0m\n\u001b[0m",
      "\u001b[1;31mTypeError\u001b[0m: can't set attributes of built-in/extension type 'type'"
     ]
    }
   ],
   "source": [
    "# Spoiler alert:  This doesn't work!\n",
    ">>> def new(cls):\n",
    "...     x = type.__new__(cls)\n",
    "...     x.attr = 100\n",
    "...     return x\n",
    "...\n",
    ">>> type.__new__ = new"
   ]
  },
  {
   "cell_type": "markdown",
   "metadata": {},
   "source": [
    "Except, as you can see, you can’t reassign the __new__() method of the type metaclass. Python doesn’t allow it.\n",
    "\n",
    "This is probably just as well. type is the metaclass from which all new-style classes are derived. You really shouldn’t be mucking around with it anyway. But then what recourse is there, if you want to customize instantiation of a class?\n",
    "\n",
    "One possible solution is a custom metaclass. Essentially, instead of mucking around with the type metaclass, you can define your own metaclass, which derives from type, and then you can muck around with that instead.\n",
    "\n",
    "The first step is to define a metaclass that derives from type, as follows:"
   ]
  },
  {
   "cell_type": "code",
   "execution_count": 18,
   "metadata": {},
   "outputs": [],
   "source": [
    ">>> class Meta(type):\n",
    "...     def __new__(cls, name, bases, dct):\n",
    "...         x = super().__new__(cls, name, bases, dct)\n",
    "...         x.attr = 100\n",
    "...         return x"
   ]
  },
  {
   "cell_type": "markdown",
   "metadata": {},
   "source": [
    "The definition header class Meta(type): specifies that Meta derives from type. Since type is a metaclass, that makes Meta a metaclass as well.\n",
    "\n",
    "Note that a custom __new__() method has been defined for Meta. It wasn’t possible to do that to the type metaclass directly. The __new__() method does the following:\n",
    "\n",
    "    Delegates via super() to the __new__() method of the parent metaclass (type) to actually create a new class\n",
    "    Assigns the custom attribute attr to the class, with a value of 100\n",
    "    Returns the newly created class\n",
    "\n",
    "Now the other half of the voodoo: Define a new class Foo and specify that its metaclass is the custom metaclass Meta, rather than the standard metaclass type. This is done using the metaclass keyword in the class definition as follows:"
   ]
  },
  {
   "cell_type": "code",
   "execution_count": 19,
   "metadata": {},
   "outputs": [
    {
     "output_type": "execute_result",
     "data": {
      "text/plain": "100"
     },
     "metadata": {},
     "execution_count": 19
    }
   ],
   "source": [
    ">>> class Foo(metaclass=Meta):\n",
    "...     pass\n",
    "...\n",
    ">>> Foo.attr"
   ]
  },
  {
   "cell_type": "markdown",
   "metadata": {},
   "source": [
    "In the same way that a class functions as a template for the creation of objects, a metaclass functions as a template for the creation of classes. Metaclasses are sometimes referred to as class factories."
   ]
  },
  {
   "cell_type": "markdown",
   "metadata": {},
   "source": [
    "## Is This Really Necessary?\n",
    "\n",
    "As simple as the above class factory example is, it is the essence of how metaclasses work. They allow customization of class instantiation.\n",
    "\n",
    "Still, this is a lot of fuss just to bestow the custom attribute attr on each newly created class. Do you really need a metaclass just for that?\n",
    "\n",
    "In Python, there are at least a couple other ways in which effectively the same thing can be accomplished:\n",
    "\n",
    "Simple inheritance"
   ]
  },
  {
   "cell_type": "code",
   "execution_count": 20,
   "metadata": {},
   "outputs": [
    {
     "output_type": "execute_result",
     "data": {
      "text/plain": "100"
     },
     "metadata": {},
     "execution_count": 20
    }
   ],
   "source": [
    ">>> class Base:\n",
    "...     attr = 100\n",
    "...\n",
    "\n",
    ">>> class X(Base):\n",
    "...     pass\n",
    ">>> X.attr"
   ]
  },
  {
   "cell_type": "markdown",
   "metadata": {},
   "source": [
    "Class Decorator:"
   ]
  },
  {
   "cell_type": "code",
   "execution_count": 21,
   "metadata": {},
   "outputs": [
    {
     "output_type": "execute_result",
     "data": {
      "text/plain": "100"
     },
     "metadata": {},
     "execution_count": 21
    }
   ],
   "source": [
    ">>> def decorator(cls):\n",
    "...     class NewClass(cls):\n",
    "...         attr = 100\n",
    "...     return NewClass\n",
    "...\n",
    ">>> @decorator\n",
    "... class X:\n",
    "...     pass\n",
    ">>> X.attr"
   ]
  },
  {
   "cell_type": "code",
   "execution_count": null,
   "metadata": {},
   "outputs": [],
   "source": []
  }
 ]
}