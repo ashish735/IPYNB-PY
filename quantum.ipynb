{
 "metadata": {
  "language_info": {
   "codemirror_mode": {
    "name": "ipython",
    "version": 3
   },
   "file_extension": ".py",
   "mimetype": "text/x-python",
   "name": "python",
   "nbconvert_exporter": "python",
   "pygments_lexer": "ipython3",
   "version": "3.7.7-final"
  },
  "orig_nbformat": 2,
  "kernelspec": {
   "name": "python_defaultSpec_1597991143019",
   "display_name": "Python 3.7.7 64-bit (conda)"
  }
 },
 "nbformat": 4,
 "nbformat_minor": 2,
 "cells": [
  {
   "cell_type": "code",
   "execution_count": 1,
   "metadata": {},
   "outputs": [],
   "source": [
    "import qiskit as qk\n",
    "\n",
    "# Creating Qubits\n",
    "q = qk.QuantumRegister(2)\n",
    "# Creating Classical Bits\n",
    "c = qk.ClassicalRegister(2)"
   ]
  },
  {
   "cell_type": "code",
   "execution_count": 2,
   "metadata": {},
   "outputs": [],
   "source": [
    "circuit = qk.QuantumCircuit(q, c)"
   ]
  },
  {
   "cell_type": "code",
   "execution_count": 3,
   "metadata": {},
   "outputs": [
    {
     "output_type": "execute_result",
     "data": {
      "text/plain": "<qiskit.circuit.instructionset.InstructionSet at 0x1e4bdab08c8>"
     },
     "metadata": {},
     "execution_count": 3
    }
   ],
   "source": [
    "# Hadamard Gate on the first Qubit\n",
    "circuit.h(q[0])\n",
    "# CNOT Gate on the first and second Qubits\n",
    "circuit.cx(q[0], q[1])\n",
    "# Measuring the Qubits\n",
    "circuit.measure(q, c)"
   ]
  },
  {
   "cell_type": "code",
   "execution_count": 4,
   "metadata": {
    "tags": []
   },
   "outputs": [
    {
     "output_type": "stream",
     "name": "stdout",
     "text": "┌───┐     ┌─┐   \nq0_0: ┤ H ├──■──┤M├───\n      └───┘┌─┴─┐└╥┘┌─┐\nq0_1: ─────┤ X ├─╫─┤M├\n           └───┘ ║ └╥┘\nc0: 2/═══════════╩══╩═\n                 0  1 \n"
    }
   ],
   "source": [
    "print (circuit)"
   ]
  },
  {
   "cell_type": "code",
   "execution_count": 9,
   "metadata": {
    "tags": []
   },
   "outputs": [
    {
     "output_type": "stream",
     "name": "stdout",
     "text": "{'11': 533, '00': 491}\n"
    }
   ],
   "source": [
    "# Using Qiskit Aer's Qasm Simulator\n",
    "simulator = qk.BasicAer.get_backend('qasm_simulator')\n",
    "\n",
    "# Simulating the circuit using the simulator to get the result\n",
    "job = qk.execute(circuit, simulator)\n",
    "result = job.result()\n",
    "\n",
    "# Getting the aggregated binary outcomes of the circuit.\n",
    "counts = result.get_counts(circuit)\n",
    "print (counts)\n"
   ]
  },
  {
   "cell_type": "code",
   "execution_count": null,
   "metadata": {},
   "outputs": [],
   "source": []
  }
 ]
}