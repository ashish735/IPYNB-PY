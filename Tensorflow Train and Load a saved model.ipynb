{
 "cells": [
  {
   "cell_type": "markdown",
   "metadata": {},
   "source": [
    "# Train.py"
   ]
  },
  {
   "cell_type": "code",
   "execution_count": 1,
   "metadata": {},
   "outputs": [],
   "source": [
    "import tensorflow as tf"
   ]
  },
  {
   "cell_type": "code",
   "execution_count": 2,
   "metadata": {},
   "outputs": [],
   "source": [
    "import numpy as np\n",
    "import os, sys\n",
    "\n",
    "DATA_SIZE = 10\n",
    "SAVE_PATH = './save'\n",
    "EPOCHS = 10\n",
    "LEARNING_RATE = 0.01\n",
    "MODEL_NAME = 'test'"
   ]
  },
  {
   "cell_type": "code",
   "execution_count": 3,
   "metadata": {},
   "outputs": [],
   "source": [
    "if not os.path.exists(SAVE_PATH):\n",
    "    os.mkdir(SAVE_PATH)\n",
    "\n",
    "data = (np.random.rand(DATA_SIZE, 2), np.random.rand(DATA_SIZE, 1))\n",
    "test = (np.random.rand(DATA_SIZE // 8, 2), np.random.rand(DATA_SIZE // 8, 1))"
   ]
  },
  {
   "cell_type": "code",
   "execution_count": 4,
   "metadata": {},
   "outputs": [
    {
     "name": "stdout",
     "output_type": "stream",
     "text": [
      "Train X shape =  (10, 2)  and Train Y shape =  (10, 1)\n"
     ]
    }
   ],
   "source": [
    "print(\"Train X shape = \",np.random.rand(DATA_SIZE, 2).shape,\" and Train Y shape = \",np.random.rand(DATA_SIZE, 1).shape)"
   ]
  },
  {
   "cell_type": "code",
   "execution_count": 5,
   "metadata": {},
   "outputs": [
    {
     "name": "stdout",
     "output_type": "stream",
     "text": [
      "Test X shape =  (1, 2)  and Test Y shape =  (1, 1)\n"
     ]
    }
   ],
   "source": [
    "print(\"Test X shape = \",np.random.rand(DATA_SIZE // 8, 2).shape,\" and Test Y shape = \",np.random.rand(DATA_SIZE // 8, 1).shape)"
   ]
  },
  {
   "cell_type": "code",
   "execution_count": 6,
   "metadata": {},
   "outputs": [],
   "source": [
    "#Clears the default graph stack and resets the global default graph.\n",
    "tf.reset_default_graph()"
   ]
  },
  {
   "cell_type": "code",
   "execution_count": 7,
   "metadata": {},
   "outputs": [
    {
     "name": "stderr",
     "output_type": "stream",
     "text": [
      "WARNING: Logging before flag parsing goes to stderr.\n",
      "W0221 12:08:06.794437 140218148456256 deprecation.py:323] From <ipython-input-7-b95f9014f96b>:5: dense (from tensorflow.python.layers.core) is deprecated and will be removed in a future version.\n",
      "Instructions for updating:\n",
      "Use keras.layers.dense instead.\n",
      "W0221 12:08:06.798921 140218148456256 deprecation.py:506] From /home/developer/anaconda3/lib/python3.7/site-packages/tensorflow/python/ops/init_ops.py:1251: calling VarianceScaling.__init__ (from tensorflow.python.ops.init_ops) with dtype is deprecated and will be removed in a future version.\n",
      "Instructions for updating:\n",
      "Call initializer instance with the dtype argument instead of passing it to the constructor\n"
     ]
    }
   ],
   "source": [
    "#tf.placeholder Inserts a placeholder for a tensor that will be always fed.\n",
    "x_input = tf.placeholder(tf.float32, shape=[None, 2], name='inputs')\n",
    "y_input = tf.placeholder(tf.float32, shape=[None, 1], name='targets')\n",
    "\n",
    "net = tf.layers.dense(x_input, 16, activation=tf.nn.relu)\n",
    "net = tf.layers.dense(net, 16, activation=tf.nn.relu)\n",
    "pred = tf.layers.dense(net, 1, activation=tf.nn.sigmoid, name='prediction')\n",
    "\n",
    "loss = tf.reduce_mean(tf.squared_difference(y_input, pred), name='loss')\n",
    "train_step = tf.train.AdamOptimizer(LEARNING_RATE).minimize(loss)"
   ]
  },
  {
   "cell_type": "code",
   "execution_count": 8,
   "metadata": {},
   "outputs": [],
   "source": [
    "#Finds the filename of latest saved checkpoint file.\n",
    "\n",
    "#Returns - The full path to the latest checkpoint or None if no checkpoint was found.\n",
    "checkpoint = tf.train.latest_checkpoint(SAVE_PATH)\n",
    "should_train = checkpoint == None\n"
   ]
  },
  {
   "cell_type": "code",
   "execution_count": 9,
   "metadata": {},
   "outputs": [
    {
     "name": "stdout",
     "output_type": "stream",
     "text": [
      "Training\n",
      "EPOCH = 0, LOSS = 0.0770\n",
      "EPOCH = 1, LOSS = 0.0723\n",
      "EPOCH = 2, LOSS = 0.0683\n",
      "EPOCH = 3, LOSS = 0.0655\n",
      "EPOCH = 4, LOSS = 0.0629\n",
      "EPOCH = 5, LOSS = 0.0607\n",
      "EPOCH = 6, LOSS = 0.0587\n",
      "EPOCH = 7, LOSS = 0.0567\n",
      "EPOCH = 8, LOSS = 0.0551\n",
      "EPOCH = 9, LOSS = 0.0538\n",
      "saved at ./save/test.ckpt\n"
     ]
    }
   ],
   "source": [
    "with tf.Session() as sess:\n",
    "    #Returns an Op that initializes global variables.\n",
    "    sess.run(tf.global_variables_initializer())\n",
    "    if should_train:\n",
    "        print(\"Training\")\n",
    "        #Set up a saver to do model checkpoint\n",
    "        saver = tf.train.Saver()\n",
    "        for epoch in range(EPOCHS):\n",
    "            \n",
    "            # sess.run runs from the last node of a graph\n",
    "            # here in our graph train_step and loss are the last node of a graph\n",
    "            # sess.run return two results , one from train_step that is thrown away\n",
    "            # one from loss that is stored in curr_loss\n",
    "            \n",
    "            _, curr_loss = sess.run([train_step, loss], feed_dict={x_input: data[0], y_input: data[1]})\n",
    "            print('EPOCH = {}, LOSS = {:0.4f}'.format(epoch, curr_loss))\n",
    "            \n",
    "        #saving the model\n",
    "        path = saver.save(sess, SAVE_PATH + '/' + MODEL_NAME + '.ckpt')\n",
    "        print(\"saved at {}\".format(path))\n",
    "    else:\n",
    "        print(\"Restoring\")\n",
    "        #getting the default graph\n",
    "        graph = tf.get_default_graph()\n",
    "        \n",
    "        #here checkpoint stores the path where the meta graph is stored\n",
    "        saver = tf.train.import_meta_graph(checkpoint + '.meta')\n",
    "        \n",
    "        #restoring the session from the path of checkpoint and saving it in sess variable\n",
    "        saver.restore(sess, checkpoint)\n",
    "        \n",
    "        #getting the loss tensor which we created earlier\n",
    "        loss = graph.get_tensor_by_name('loss:0')\n",
    "\n",
    "        test_loss = sess.run(loss, feed_dict={'inputs:0': test[0], 'targets:0': test[1]})\n",
    "        print(sess.run(pred, feed_dict={'inputs:0': np.random.rand(10,2)}))\n",
    "        print(\"TEST LOSS = {:0.4f}\".format(test_loss))"
   ]
  },
  {
   "cell_type": "code",
   "execution_count": 10,
   "metadata": {},
   "outputs": [
    {
     "data": {
      "text/plain": [
       "array([[0.55044176, 0.93159502],\n",
       "       [0.76612671, 0.38042123],\n",
       "       [0.38452544, 0.76558362],\n",
       "       [0.11171368, 0.7268584 ],\n",
       "       [0.99162821, 0.14359536],\n",
       "       [0.3662095 , 0.21682761],\n",
       "       [0.38142034, 0.41385196],\n",
       "       [0.41378229, 0.09235898],\n",
       "       [0.88542082, 0.97254922],\n",
       "       [0.78248991, 0.82300099]])"
      ]
     },
     "execution_count": 10,
     "metadata": {},
     "output_type": "execute_result"
    }
   ],
   "source": [
    "np.random.rand(10,2)"
   ]
  },
  {
   "cell_type": "code",
   "execution_count": 11,
   "metadata": {},
   "outputs": [
    {
     "name": "stdout",
     "output_type": "stream",
     "text": [
      "./save/test.ckpt\n"
     ]
    }
   ],
   "source": [
    "checkpoint = tf.train.latest_checkpoint(SAVE_PATH)\n",
    "should_train = checkpoint\n",
    "print(should_train)"
   ]
  },
  {
   "cell_type": "code",
   "execution_count": 13,
   "metadata": {},
   "outputs": [
    {
     "name": "stdout",
     "output_type": "stream",
     "text": [
      "Restoring\n",
      "[[0.5898237 ]\n",
      " [0.5804689 ]\n",
      " [0.5629724 ]\n",
      " [0.6561172 ]\n",
      " [0.52727747]\n",
      " [0.656306  ]\n",
      " [0.63355345]\n",
      " [0.6177589 ]\n",
      " [0.531047  ]\n",
      " [0.6231788 ]]\n",
      "TEST LOSS = 0.2909\n"
     ]
    }
   ],
   "source": [
    "with tf.Session() as sess:\n",
    "    #Returns an Op that initializes global variables.\n",
    "    sess.run(tf.global_variables_initializer())\n",
    "    print(\"Restoring\")\n",
    "    #getting the default graph\n",
    "    graph = tf.get_default_graph()\n",
    "\n",
    "    #here checkpoint stores the path where the meta graph is stored\n",
    "    saver = tf.train.import_meta_graph(checkpoint + '.meta')\n",
    "\n",
    "    #restoring the session from the path of checkpoint and saving it in sess variable\n",
    "    saver.restore(sess, checkpoint)\n",
    "\n",
    "    #getting the loss tensor which we created earlier\n",
    "    loss = graph.get_tensor_by_name('loss:0')\n",
    "    \n",
    "    #TEST LOSS returns just one value because test[0] and test[1] have only one row\n",
    "    test_loss = sess.run(loss, feed_dict={'inputs:0': test[0], 'targets:0': test[1]})\n",
    "    \n",
    "    #pred is the last node of the graph for x_input\n",
    "    print(sess.run(pred, feed_dict={'inputs:0': np.random.rand(10,2)}))\n",
    "    print(\"TEST LOSS = {:0.4f}\".format(test_loss))"
   ]
  },
  {
   "cell_type": "markdown",
   "metadata": {},
   "source": [
    "# Serve.py"
   ]
  },
  {
   "cell_type": "code",
   "execution_count": 1,
   "metadata": {},
   "outputs": [],
   "source": [
    "import tensorflow as tf\n",
    "import os\n",
    "\n",
    "SAVE_PATH = './save'\n",
    "MODEL_NAME = 'test'\n",
    "VERSION = 1\n",
    "SERVE_PATH = './serve/{}/{}'.format(MODEL_NAME, VERSION)\n",
    "\n",
    "#Finds the filename of latest saved checkpoint file.\n",
    "\n",
    "#Returns - The full path to the latest checkpoint or None if no checkpoint was found.\n",
    "checkpoint = tf.train.latest_checkpoint(SAVE_PATH)\n",
    "\n",
    "tf.reset_default_graph()"
   ]
  },
  {
   "cell_type": "code",
   "execution_count": 2,
   "metadata": {},
   "outputs": [
    {
     "name": "stderr",
     "output_type": "stream",
     "text": [
      "WARNING: Logging before flag parsing goes to stderr.\n",
      "W0221 12:25:08.744048 139644469540672 deprecation.py:323] From <ipython-input-2-6e50e7395b6f>:15: build_tensor_info (from tensorflow.python.saved_model.utils_impl) is deprecated and will be removed in a future version.\n",
      "Instructions for updating:\n",
      "This function will only be available through the v1 compatibility library as tf.compat.v1.saved_model.utils.build_tensor_info or tf.compat.v1.saved_model.build_tensor_info.\n"
     ]
    }
   ],
   "source": [
    "with tf.Session() as sess:\n",
    "    \n",
    "    # import the saved graph\n",
    "    saver = tf.train.import_meta_graph(checkpoint + '.meta')\n",
    "    \n",
    "    # get the graph for this session\n",
    "    graph = tf.get_default_graph()\n",
    "    sess.run(tf.global_variables_initializer())\n",
    "    \n",
    "    # get the tensors that we need\n",
    "    inputs = graph.get_tensor_by_name('inputs:0')\n",
    "    predictions = graph.get_tensor_by_name('prediction/Sigmoid:0')\n",
    "    \n",
    "    # create tensors info\n",
    "    model_input = tf.saved_model.utils.build_tensor_info(inputs)           # Line-1\n",
    "    model_output = tf.saved_model.utils.build_tensor_info(predictions)     # Line 2\n",
    "    \n",
    "    # build signature definition\n",
    "    signature_definition = tf.saved_model.signature_def_utils.build_signature_def(\n",
    "        inputs={'inputs': model_input},    #model_input getting from Line 1\n",
    "        outputs={'outputs': model_output},  #model_ouput getting from Line 2\n",
    "        method_name= tf.saved_model.signature_constants.PREDICT_METHOD_NAME)\n",
    "\n",
    "    builder = tf.saved_model.builder.SavedModelBuilder(SERVE_PATH)\n",
    "\n",
    "    builder.add_meta_graph_and_variables(\n",
    "        sess, [tf.saved_model.tag_constants.SERVING],\n",
    "        signature_def_map={\n",
    "            tf.saved_model.signature_constants.DEFAULT_SERVING_SIGNATURE_DEF_KEY:\n",
    "                signature_definition\n",
    "        })\n",
    "    # Save the model so we can serve it with a model server :)\n",
    "    builder.save()\n"
   ]
  },
  {
   "cell_type": "code",
   "execution_count": null,
   "metadata": {},
   "outputs": [],
   "source": []
  }
 ],
 "metadata": {
  "kernelspec": {
   "display_name": "Python 3",
   "language": "python",
   "name": "python3"
  },
  "language_info": {
   "codemirror_mode": {
    "name": "ipython",
    "version": 3
   },
   "file_extension": ".py",
   "mimetype": "text/x-python",
   "name": "python",
   "nbconvert_exporter": "python",
   "pygments_lexer": "ipython3",
   "version": "3.7.3"
  }
 },
 "nbformat": 4,
 "nbformat_minor": 2
}
