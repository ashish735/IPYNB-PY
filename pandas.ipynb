{
 "nbformat": 4,
 "nbformat_minor": 2,
 "metadata": {
  "language_info": {
   "name": "python",
   "codemirror_mode": {
    "name": "ipython",
    "version": 3
   },
   "version": "3.6.7-final"
  },
  "orig_nbformat": 2,
  "file_extension": ".py",
  "mimetype": "text/x-python",
  "name": "python",
  "npconvert_exporter": "python",
  "pygments_lexer": "ipython3",
  "version": 3,
  "kernelspec": {
   "name": "python3",
   "display_name": "Python 3"
  }
 },
 "cells": [
  {
   "cell_type": "code",
   "execution_count": 4,
   "metadata": {},
   "outputs": [],
   "source": [
    "import pandas as pd\n",
    "import numpy as np"
   ]
  },
  {
   "cell_type": "markdown",
   "metadata": {},
   "source": [
    "## Create a pandas dataframe with random integer values"
   ]
  },
  {
   "cell_type": "code",
   "execution_count": 5,
   "metadata": {},
   "outputs": [
    {
     "data": {
      "text/html": "<div>\n<style scoped>\n    .dataframe tbody tr th:only-of-type {\n        vertical-align: middle;\n    }\n\n    .dataframe tbody tr th {\n        vertical-align: top;\n    }\n\n    .dataframe thead th {\n        text-align: right;\n    }\n</style>\n<table border=\"1\" class=\"dataframe\">\n  <thead>\n    <tr style=\"text-align: right;\">\n      <th></th>\n      <th>one</th>\n      <th>two</th>\n      <th>three</th>\n      <th>four</th>\n      <th>five</th>\n    </tr>\n  </thead>\n  <tbody>\n    <tr>\n      <th>0</th>\n      <td>3</td>\n      <td>47</td>\n      <td>47</td>\n      <td>75</td>\n      <td>0</td>\n    </tr>\n    <tr>\n      <th>1</th>\n      <td>59</td>\n      <td>39</td>\n      <td>4</td>\n      <td>95</td>\n      <td>51</td>\n    </tr>\n    <tr>\n      <th>2</th>\n      <td>12</td>\n      <td>52</td>\n      <td>32</td>\n      <td>35</td>\n      <td>82</td>\n    </tr>\n    <tr>\n      <th>3</th>\n      <td>70</td>\n      <td>95</td>\n      <td>31</td>\n      <td>25</td>\n      <td>68</td>\n    </tr>\n  </tbody>\n</table>\n</div>",
      "text/plain": "   one  two  three  four  five\n0    3   47     47    75     0\n1   59   39      4    95    51\n2   12   52     32    35    82\n3   70   95     31    25    68"
     },
     "execution_count": 5,
     "metadata": {},
     "output_type": "execute_result"
    }
   ],
   "source": [
    "A = pd.DataFrame(np.random.randint(0,100,(4,5)),  columns= ['one','two','three','four','five'])    # (4,5) denotes rows and columns\n",
    "A"
   ]
  },
  {
   "cell_type": "markdown",
   "metadata": {},
   "source": [
    "## Create an empty Dataframe with column names & row indices but no data"
   ]
  },
  {
   "cell_type": "code",
   "execution_count": 18,
   "metadata": {},
   "outputs": [
    {
     "data": {
      "text/html": "<div>\n<style scoped>\n    .dataframe tbody tr th:only-of-type {\n        vertical-align: middle;\n    }\n\n    .dataframe tbody tr th {\n        vertical-align: top;\n    }\n\n    .dataframe thead th {\n        text-align: right;\n    }\n</style>\n<table border=\"1\" class=\"dataframe\">\n  <thead>\n    <tr style=\"text-align: right;\">\n      <th></th>\n      <th>User_ID</th>\n      <th>UserName</th>\n      <th>Action</th>\n    </tr>\n  </thead>\n  <tbody>\n    <tr>\n      <th>a</th>\n      <td>NaN</td>\n      <td>NaN</td>\n      <td>NaN</td>\n    </tr>\n    <tr>\n      <th>b</th>\n      <td>NaN</td>\n      <td>NaN</td>\n      <td>NaN</td>\n    </tr>\n    <tr>\n      <th>c</th>\n      <td>NaN</td>\n      <td>NaN</td>\n      <td>NaN</td>\n    </tr>\n  </tbody>\n</table>\n</div>",
      "text/plain": "  User_ID UserName Action\na     NaN      NaN    NaN\nb     NaN      NaN    NaN\nc     NaN      NaN    NaN"
     },
     "execution_count": 18,
     "metadata": {},
     "output_type": "execute_result"
    }
   ],
   "source": [
    "df = pd.DataFrame(columns=['User_ID', 'UserName', 'Action'], index=['a', 'b', 'c'])\n",
    "df"
   ]
  },
  {
   "cell_type": "code",
   "execution_count": 19,
   "metadata": {},
   "outputs": [
    {
     "data": {
      "text/html": "<div>\n<style scoped>\n    .dataframe tbody tr th:only-of-type {\n        vertical-align: middle;\n    }\n\n    .dataframe tbody tr th {\n        vertical-align: top;\n    }\n\n    .dataframe thead th {\n        text-align: right;\n    }\n</style>\n<table border=\"1\" class=\"dataframe\">\n  <thead>\n    <tr style=\"text-align: right;\">\n      <th></th>\n      <th>User_ID</th>\n      <th>UserName</th>\n      <th>Action</th>\n    </tr>\n  </thead>\n  <tbody>\n    <tr>\n      <th>a</th>\n      <td>NaN</td>\n      <td>NaN</td>\n      <td>NaN</td>\n    </tr>\n    <tr>\n      <th>b</th>\n      <td>23</td>\n      <td>Riti</td>\n      <td>Login</td>\n    </tr>\n    <tr>\n      <th>c</th>\n      <td>NaN</td>\n      <td>NaN</td>\n      <td>NaN</td>\n    </tr>\n  </tbody>\n</table>\n</div>",
      "text/plain": "  User_ID UserName Action\na     NaN      NaN    NaN\nb      23     Riti  Login\nc     NaN      NaN    NaN"
     },
     "execution_count": 19,
     "metadata": {},
     "output_type": "execute_result"
    }
   ],
   "source": [
    "df.loc['b']= [23, 'Riti', 'Login']    #loc requires the index name\n",
    "df"
   ]
  },
  {
   "cell_type": "code",
   "execution_count": 20,
   "metadata": {},
   "outputs": [
    {
     "data": {
      "text/html": "<div>\n<style scoped>\n    .dataframe tbody tr th:only-of-type {\n        vertical-align: middle;\n    }\n\n    .dataframe tbody tr th {\n        vertical-align: top;\n    }\n\n    .dataframe thead th {\n        text-align: right;\n    }\n</style>\n<table border=\"1\" class=\"dataframe\">\n  <thead>\n    <tr style=\"text-align: right;\">\n      <th></th>\n      <th>User_ID</th>\n      <th>UserName</th>\n      <th>Action</th>\n    </tr>\n  </thead>\n  <tbody>\n    <tr>\n      <th>a</th>\n      <td>NaN</td>\n      <td>NaN</td>\n      <td>NaN</td>\n    </tr>\n    <tr>\n      <th>b</th>\n      <td>23</td>\n      <td>Riti</td>\n      <td>Login</td>\n    </tr>\n    <tr>\n      <th>c</th>\n      <td>25</td>\n      <td>Jack</td>\n      <td>Login</td>\n    </tr>\n  </tbody>\n</table>\n</div>",
      "text/plain": "  User_ID UserName Action\na     NaN      NaN    NaN\nb      23     Riti  Login\nc      25     Jack  Login"
     },
     "execution_count": 20,
     "metadata": {},
     "output_type": "execute_result"
    }
   ],
   "source": [
    "df.iloc[2]= [25, 'Jack', 'Login']    #iloc requires the index position\n",
    "df"
   ]
  },
  {
   "cell_type": "code",
   "execution_count": 21,
   "metadata": {},
   "outputs": [
    {
     "data": {
      "text/html": "<div>\n<style scoped>\n    .dataframe tbody tr th:only-of-type {\n        vertical-align: middle;\n    }\n\n    .dataframe tbody tr th {\n        vertical-align: top;\n    }\n\n    .dataframe thead th {\n        text-align: right;\n    }\n</style>\n<table border=\"1\" class=\"dataframe\">\n  <thead>\n    <tr style=\"text-align: right;\">\n      <th></th>\n      <th>User_ID</th>\n      <th>UserName</th>\n      <th>Action</th>\n      <th>new_column</th>\n    </tr>\n  </thead>\n  <tbody>\n    <tr>\n      <th>a</th>\n      <td>NaN</td>\n      <td>NaN</td>\n      <td>NaN</td>\n      <td>12</td>\n    </tr>\n    <tr>\n      <th>b</th>\n      <td>23</td>\n      <td>Riti</td>\n      <td>Login</td>\n      <td>Rakesh</td>\n    </tr>\n    <tr>\n      <th>c</th>\n      <td>25</td>\n      <td>Jack</td>\n      <td>Login</td>\n      <td>Logout</td>\n    </tr>\n  </tbody>\n</table>\n</div>",
      "text/plain": "  User_ID UserName Action new_column\na     NaN      NaN    NaN         12\nb      23     Riti  Login     Rakesh\nc      25     Jack  Login     Logout"
     },
     "execution_count": 21,
     "metadata": {},
     "output_type": "execute_result"
    }
   ],
   "source": [
    "df['new_column']= [12, 'Rakesh', 'Logout']    # it adds a column to dataframe\n",
    "df"
   ]
  },
  {
   "cell_type": "code",
   "execution_count": 17,
   "metadata": {},
   "outputs": [
    {
     "data": {
      "text/html": "<div>\n<style scoped>\n    .dataframe tbody tr th:only-of-type {\n        vertical-align: middle;\n    }\n\n    .dataframe tbody tr th {\n        vertical-align: top;\n    }\n\n    .dataframe thead th {\n        text-align: right;\n    }\n</style>\n<table border=\"1\" class=\"dataframe\">\n  <thead>\n    <tr style=\"text-align: right;\">\n      <th></th>\n      <th>User_ID</th>\n      <th>UserName</th>\n      <th>Action</th>\n      <th>new_column</th>\n    </tr>\n  </thead>\n  <tbody>\n    <tr>\n      <th>0</th>\n      <td>NaN</td>\n      <td>NaN</td>\n      <td>NaN</td>\n      <td>12</td>\n    </tr>\n    <tr>\n      <th>1</th>\n      <td>23</td>\n      <td>Riti</td>\n      <td>Login</td>\n      <td>Rakesh</td>\n    </tr>\n    <tr>\n      <th>2</th>\n      <td>25</td>\n      <td>Jack</td>\n      <td>Login</td>\n      <td>Logout</td>\n    </tr>\n    <tr>\n      <th>3</th>\n      <td>23</td>\n      <td>Riti</td>\n      <td>Login</td>\n      <td>ErrorNotFound</td>\n    </tr>\n  </tbody>\n</table>\n</div>",
      "text/plain": "  User_ID UserName Action     new_column\n0     NaN      NaN    NaN             12\n1      23     Riti  Login         Rakesh\n2      25     Jack  Login         Logout\n3      23     Riti  Login  ErrorNotFound"
     },
     "execution_count": 17,
     "metadata": {},
     "output_type": "execute_result"
    }
   ],
   "source": [
    "df = df.append({'User_ID': 23, 'UserName': 'Riti', 'Action': 'Login', 'new_column': 'ErrorNotFound'}, ignore_index=True)  #ignore_index=True resets the index                                                                                                                                                    values\n",
    "df"
   ]
  },
  {
   "cell_type": "code",
   "execution_count": 24,
   "metadata": {},
   "outputs": [
    {
     "data": {
      "text/html": "<div>\n<style scoped>\n    .dataframe tbody tr th:only-of-type {\n        vertical-align: middle;\n    }\n\n    .dataframe tbody tr th {\n        vertical-align: top;\n    }\n\n    .dataframe thead th {\n        text-align: right;\n    }\n</style>\n<table border=\"1\" class=\"dataframe\">\n  <thead>\n    <tr style=\"text-align: right;\">\n      <th></th>\n      <th>User_ID</th>\n      <th>UserName</th>\n      <th>Action</th>\n      <th>new_column</th>\n    </tr>\n  </thead>\n  <tbody>\n    <tr>\n      <th>a</th>\n      <td>NaN</td>\n      <td>NaN</td>\n      <td>NaN</td>\n      <td>12</td>\n    </tr>\n    <tr>\n      <th>b</th>\n      <td>23</td>\n      <td>Riti</td>\n      <td>Login</td>\n      <td>Rakesh</td>\n    </tr>\n    <tr>\n      <th>c</th>\n      <td>25</td>\n      <td>Jack</td>\n      <td>Login</td>\n      <td>Logout</td>\n    </tr>\n    <tr>\n      <th>d</th>\n      <td>78</td>\n      <td>Ashish</td>\n      <td>SignIn</td>\n      <td>RockIt</td>\n    </tr>\n  </tbody>\n</table>\n</div>",
      "text/plain": "  User_ID UserName  Action new_column\na     NaN      NaN     NaN         12\nb      23     Riti   Login     Rakesh\nc      25     Jack   Login     Logout\nd      78   Ashish  SignIn     RockIt"
     },
     "execution_count": 24,
     "metadata": {},
     "output_type": "execute_result"
    }
   ],
   "source": [
    "df.loc['d']=[78, 'Ashish', 'SignIn', 'RockIt']    #it adds a row to a dataframe\n",
    "df"
   ]
  },
  {
   "cell_type": "code",
   "execution_count": 27,
   "metadata": {},
   "outputs": [
    {
     "data": {
      "text/html": "<div>\n<style scoped>\n    .dataframe tbody tr th:only-of-type {\n        vertical-align: middle;\n    }\n\n    .dataframe tbody tr th {\n        vertical-align: top;\n    }\n\n    .dataframe thead th {\n        text-align: right;\n    }\n</style>\n<table border=\"1\" class=\"dataframe\">\n  <thead>\n    <tr style=\"text-align: right;\">\n      <th></th>\n      <th>User_ID</th>\n      <th>UserName</th>\n      <th>Action</th>\n      <th>new_column</th>\n    </tr>\n  </thead>\n  <tbody>\n    <tr>\n      <th>a</th>\n      <td>NaN</td>\n      <td>NaN</td>\n      <td>NaN</td>\n      <td>12</td>\n    </tr>\n    <tr>\n      <th>b</th>\n      <td>23</td>\n      <td>Riti</td>\n      <td>Login</td>\n      <td>Rakesh</td>\n    </tr>\n    <tr>\n      <th>c</th>\n      <td>25</td>\n      <td>Jack</td>\n      <td>Login</td>\n      <td>Logout</td>\n    </tr>\n  </tbody>\n</table>\n</div>",
      "text/plain": "  User_ID UserName Action new_column\na     NaN      NaN    NaN         12\nb      23     Riti  Login     Rakesh\nc      25     Jack  Login     Logout"
     },
     "execution_count": 27,
     "metadata": {},
     "output_type": "execute_result"
    }
   ],
   "source": [
    "df['a':'c']"
   ]
  },
  {
   "cell_type": "code",
   "execution_count": 31,
   "metadata": {},
   "outputs": [
    {
     "data": {
      "text/html": "<div>\n<style scoped>\n    .dataframe tbody tr th:only-of-type {\n        vertical-align: middle;\n    }\n\n    .dataframe tbody tr th {\n        vertical-align: top;\n    }\n\n    .dataframe thead th {\n        text-align: right;\n    }\n</style>\n<table border=\"1\" class=\"dataframe\">\n  <thead>\n    <tr style=\"text-align: right;\">\n      <th></th>\n      <th>User_ID</th>\n      <th>UserName</th>\n      <th>Action</th>\n    </tr>\n  </thead>\n  <tbody>\n    <tr>\n      <th>a</th>\n      <td>NaN</td>\n      <td>NaN</td>\n      <td>NaN</td>\n    </tr>\n    <tr>\n      <th>b</th>\n      <td>23</td>\n      <td>Riti</td>\n      <td>Login</td>\n    </tr>\n    <tr>\n      <th>c</th>\n      <td>25</td>\n      <td>Jack</td>\n      <td>Login</td>\n    </tr>\n  </tbody>\n</table>\n</div>",
      "text/plain": "  User_ID UserName Action\na     NaN      NaN    NaN\nb      23     Riti  Login\nc      25     Jack  Login"
     },
     "execution_count": 31,
     "metadata": {},
     "output_type": "execute_result"
    }
   ],
   "source": [
    "df.loc['a':'c' ,'User_ID':'Action']       #loc requires index and columns name"
   ]
  },
  {
   "cell_type": "code",
   "execution_count": 32,
   "metadata": {},
   "outputs": [
    {
     "data": {
      "text/html": "<div>\n<style scoped>\n    .dataframe tbody tr th:only-of-type {\n        vertical-align: middle;\n    }\n\n    .dataframe tbody tr th {\n        vertical-align: top;\n    }\n\n    .dataframe thead th {\n        text-align: right;\n    }\n</style>\n<table border=\"1\" class=\"dataframe\">\n  <thead>\n    <tr style=\"text-align: right;\">\n      <th></th>\n      <th>User_ID</th>\n      <th>UserName</th>\n      <th>Action</th>\n    </tr>\n  </thead>\n  <tbody>\n    <tr>\n      <th>a</th>\n      <td>NaN</td>\n      <td>NaN</td>\n      <td>NaN</td>\n    </tr>\n    <tr>\n      <th>b</th>\n      <td>23</td>\n      <td>Riti</td>\n      <td>Login</td>\n    </tr>\n    <tr>\n      <th>c</th>\n      <td>25</td>\n      <td>Jack</td>\n      <td>Login</td>\n    </tr>\n  </tbody>\n</table>\n</div>",
      "text/plain": "  User_ID UserName Action\na     NaN      NaN    NaN\nb      23     Riti  Login\nc      25     Jack  Login"
     },
     "execution_count": 32,
     "metadata": {},
     "output_type": "execute_result"
    }
   ],
   "source": [
    "df.iloc[0:3, 0:3]                        #iloc requires index and column position"
   ]
  },
  {
   "cell_type": "code",
   "execution_count": 34,
   "metadata": {},
   "outputs": [
    {
     "data": {
      "text/html": "<div>\n<style scoped>\n    .dataframe tbody tr th:only-of-type {\n        vertical-align: middle;\n    }\n\n    .dataframe tbody tr th {\n        vertical-align: top;\n    }\n\n    .dataframe thead th {\n        text-align: right;\n    }\n</style>\n<table border=\"1\" class=\"dataframe\">\n  <thead>\n    <tr style=\"text-align: right;\">\n      <th></th>\n      <th>User_ID</th>\n      <th>UserName</th>\n      <th>Action</th>\n    </tr>\n  </thead>\n  <tbody>\n    <tr>\n      <th>a</th>\n      <td>NaN</td>\n      <td>NaN</td>\n      <td>NaN</td>\n    </tr>\n    <tr>\n      <th>b</th>\n      <td>23</td>\n      <td>Priya</td>\n      <td>Login</td>\n    </tr>\n    <tr>\n      <th>c</th>\n      <td>25</td>\n      <td>Jack</td>\n      <td>Login</td>\n    </tr>\n  </tbody>\n</table>\n</div>",
      "text/plain": "  User_ID UserName Action\na     NaN      NaN    NaN\nb      23    Priya  Login\nc      25     Jack  Login"
     },
     "execution_count": 34,
     "metadata": {},
     "output_type": "execute_result"
    }
   ],
   "source": [
    "df.loc['b']['UserName']='Priya'             #chnaging a value in dataframe\n",
    "df.iloc[0:3, 0:3]                   "
   ]
  },
  {
   "cell_type": "code",
   "execution_count": null,
   "metadata": {},
   "outputs": [],
   "source": []
  }
 ]
}